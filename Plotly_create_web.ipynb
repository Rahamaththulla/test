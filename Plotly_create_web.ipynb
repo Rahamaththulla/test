{
  "nbformat": 4,
  "nbformat_minor": 0,
  "metadata": {
    "colab": {
      "provenance": [],
      "authorship_tag": "ABX9TyN6dyl5ujoPWQQ6JXcNxYjq",
      "include_colab_link": true
    },
    "kernelspec": {
      "name": "python3",
      "display_name": "Python 3"
    },
    "language_info": {
      "name": "python"
    }
  },
  "cells": [
    {
      "cell_type": "markdown",
      "metadata": {
        "id": "view-in-github",
        "colab_type": "text"
      },
      "source": [
        "<a href=\"https://colab.research.google.com/github/Rahamaththulla/test/blob/main/Plotly_create_web.ipynb\" target=\"_parent\"><img src=\"https://colab.research.google.com/assets/colab-badge.svg\" alt=\"Open In Colab\"/></a>"
      ]
    },
    {
      "cell_type": "code",
      "execution_count": null,
      "metadata": {
        "colab": {
          "base_uri": "https://localhost:8080/"
        },
        "id": "j3D024dEfLd2",
        "outputId": "c7117121-6cc9-4432-bdcc-313959cc123c"
      },
      "outputs": [
        {
          "output_type": "stream",
          "name": "stdout",
          "text": [
            "Looking in indexes: https://pypi.org/simple, https://us-python.pkg.dev/colab-wheels/public/simple/\n",
            "Collecting jupyter-dash\n",
            "  Downloading jupyter_dash-0.4.2-py3-none-any.whl (23 kB)\n",
            "Collecting ansi2html\n",
            "  Downloading ansi2html-1.8.0-py3-none-any.whl (16 kB)\n",
            "Requirement already satisfied: ipython in /usr/local/lib/python3.8/dist-packages (from jupyter-dash) (7.9.0)\n",
            "Requirement already satisfied: ipykernel in /usr/local/lib/python3.8/dist-packages (from jupyter-dash) (5.3.4)\n",
            "Collecting nest-asyncio\n",
            "  Downloading nest_asyncio-1.5.6-py3-none-any.whl (5.2 kB)\n",
            "Collecting dash\n",
            "  Downloading dash-2.8.1-py3-none-any.whl (9.9 MB)\n",
            "\u001b[2K     \u001b[90m━━━━━━━━━━━━━━━━━━━━━━━━━━━━━━━━━━━━━━━━\u001b[0m \u001b[32m9.9/9.9 MB\u001b[0m \u001b[31m51.3 MB/s\u001b[0m eta \u001b[36m0:00:00\u001b[0m\n",
            "\u001b[?25hCollecting retrying\n",
            "  Downloading retrying-1.3.4-py3-none-any.whl (11 kB)\n",
            "Requirement already satisfied: flask in /usr/local/lib/python3.8/dist-packages (from jupyter-dash) (2.2.3)\n",
            "Requirement already satisfied: requests in /usr/local/lib/python3.8/dist-packages (from jupyter-dash) (2.25.1)\n",
            "Collecting dash-core-components==2.0.0\n",
            "  Downloading dash_core_components-2.0.0-py3-none-any.whl (3.8 kB)\n",
            "Collecting dash-html-components==2.0.0\n",
            "  Downloading dash_html_components-2.0.0-py3-none-any.whl (4.1 kB)\n",
            "Collecting dash-table==5.0.0\n",
            "  Downloading dash_table-5.0.0-py3-none-any.whl (3.9 kB)\n",
            "Requirement already satisfied: plotly>=5.0.0 in /usr/local/lib/python3.8/dist-packages (from dash->jupyter-dash) (5.5.0)\n",
            "Requirement already satisfied: Jinja2>=3.0 in /usr/local/lib/python3.8/dist-packages (from flask->jupyter-dash) (3.1.2)\n",
            "Requirement already satisfied: Werkzeug>=2.2.2 in /usr/local/lib/python3.8/dist-packages (from flask->jupyter-dash) (2.2.3)\n",
            "Requirement already satisfied: itsdangerous>=2.0 in /usr/local/lib/python3.8/dist-packages (from flask->jupyter-dash) (2.1.2)\n",
            "Requirement already satisfied: click>=8.0 in /usr/local/lib/python3.8/dist-packages (from flask->jupyter-dash) (8.1.3)\n",
            "Requirement already satisfied: importlib-metadata>=3.6.0 in /usr/local/lib/python3.8/dist-packages (from flask->jupyter-dash) (6.0.0)\n",
            "Requirement already satisfied: traitlets>=4.1.0 in /usr/local/lib/python3.8/dist-packages (from ipykernel->jupyter-dash) (5.7.1)\n",
            "Requirement already satisfied: jupyter-client in /usr/local/lib/python3.8/dist-packages (from ipykernel->jupyter-dash) (6.1.12)\n",
            "Requirement already satisfied: tornado>=4.2 in /usr/local/lib/python3.8/dist-packages (from ipykernel->jupyter-dash) (6.2)\n",
            "Requirement already satisfied: pygments in /usr/local/lib/python3.8/dist-packages (from ipython->jupyter-dash) (2.6.1)\n",
            "Requirement already satisfied: setuptools>=18.5 in /usr/local/lib/python3.8/dist-packages (from ipython->jupyter-dash) (57.4.0)\n",
            "Requirement already satisfied: pickleshare in /usr/local/lib/python3.8/dist-packages (from ipython->jupyter-dash) (0.7.5)\n",
            "Collecting jedi>=0.10\n",
            "  Downloading jedi-0.18.2-py2.py3-none-any.whl (1.6 MB)\n",
            "\u001b[2K     \u001b[90m━━━━━━━━━━━━━━━━━━━━━━━━━━━━━━━━━━━━━━━━\u001b[0m \u001b[32m1.6/1.6 MB\u001b[0m \u001b[31m45.0 MB/s\u001b[0m eta \u001b[36m0:00:00\u001b[0m\n",
            "\u001b[?25hRequirement already satisfied: decorator in /usr/local/lib/python3.8/dist-packages (from ipython->jupyter-dash) (4.4.2)\n",
            "Requirement already satisfied: prompt-toolkit<2.1.0,>=2.0.0 in /usr/local/lib/python3.8/dist-packages (from ipython->jupyter-dash) (2.0.10)\n",
            "Requirement already satisfied: pexpect in /usr/local/lib/python3.8/dist-packages (from ipython->jupyter-dash) (4.8.0)\n",
            "Requirement already satisfied: backcall in /usr/local/lib/python3.8/dist-packages (from ipython->jupyter-dash) (0.2.0)\n",
            "Requirement already satisfied: certifi>=2017.4.17 in /usr/local/lib/python3.8/dist-packages (from requests->jupyter-dash) (2022.12.7)\n",
            "Requirement already satisfied: urllib3<1.27,>=1.21.1 in /usr/local/lib/python3.8/dist-packages (from requests->jupyter-dash) (1.26.14)\n",
            "Requirement already satisfied: idna<3,>=2.5 in /usr/local/lib/python3.8/dist-packages (from requests->jupyter-dash) (2.10)\n",
            "Requirement already satisfied: chardet<5,>=3.0.2 in /usr/local/lib/python3.8/dist-packages (from requests->jupyter-dash) (4.0.0)\n",
            "Requirement already satisfied: six>=1.7.0 in /usr/local/lib/python3.8/dist-packages (from retrying->jupyter-dash) (1.15.0)\n",
            "Requirement already satisfied: zipp>=0.5 in /usr/local/lib/python3.8/dist-packages (from importlib-metadata>=3.6.0->flask->jupyter-dash) (3.15.0)\n",
            "Requirement already satisfied: parso<0.9.0,>=0.8.0 in /usr/local/lib/python3.8/dist-packages (from jedi>=0.10->ipython->jupyter-dash) (0.8.3)\n",
            "Requirement already satisfied: MarkupSafe>=2.0 in /usr/local/lib/python3.8/dist-packages (from Jinja2>=3.0->flask->jupyter-dash) (2.1.2)\n",
            "Requirement already satisfied: tenacity>=6.2.0 in /usr/local/lib/python3.8/dist-packages (from plotly>=5.0.0->dash->jupyter-dash) (8.2.2)\n",
            "Requirement already satisfied: wcwidth in /usr/local/lib/python3.8/dist-packages (from prompt-toolkit<2.1.0,>=2.0.0->ipython->jupyter-dash) (0.2.6)\n",
            "Requirement already satisfied: jupyter-core>=4.6.0 in /usr/local/lib/python3.8/dist-packages (from jupyter-client->ipykernel->jupyter-dash) (5.2.0)\n",
            "Requirement already satisfied: pyzmq>=13 in /usr/local/lib/python3.8/dist-packages (from jupyter-client->ipykernel->jupyter-dash) (23.2.1)\n",
            "Requirement already satisfied: python-dateutil>=2.1 in /usr/local/lib/python3.8/dist-packages (from jupyter-client->ipykernel->jupyter-dash) (2.8.2)\n",
            "Requirement already satisfied: ptyprocess>=0.5 in /usr/local/lib/python3.8/dist-packages (from pexpect->ipython->jupyter-dash) (0.7.0)\n",
            "Requirement already satisfied: platformdirs>=2.5 in /usr/local/lib/python3.8/dist-packages (from jupyter-core>=4.6.0->jupyter-client->ipykernel->jupyter-dash) (3.0.0)\n",
            "Installing collected packages: dash-table, dash-html-components, dash-core-components, retrying, nest-asyncio, jedi, ansi2html, dash, jupyter-dash\n",
            "Successfully installed ansi2html-1.8.0 dash-2.8.1 dash-core-components-2.0.0 dash-html-components-2.0.0 dash-table-5.0.0 jedi-0.18.2 jupyter-dash-0.4.2 nest-asyncio-1.5.6 retrying-1.3.4\n"
          ]
        }
      ],
      "source": [
        "\n",
        "!pip install jupyter-dash"
      ]
    },
    {
      "cell_type": "code",
      "source": [
        "# Run this app with `python app.py` and\n",
        "# visit http://127.0.0.1:8050/ in your web browser.\n",
        "\n",
        "\n",
        "#import dash\n",
        "from jupyter_dash import JupyterDash\n",
        "import dash_core_components as dcc\n",
        "import dash_html_components as html\n",
        "import plotly.express as px\n",
        "import pandas as pd\n",
        "\n",
        "\n",
        "#app = dash.Dash(__name__)\n",
        "app = JupyterDash(__name__)\n",
        "\n",
        "\n",
        "# assume you have a \"long-form\" data frame\n",
        "# see https://plotly.com/python/px-arguments/ for more options\n",
        "df = pd.DataFrame({\n",
        "   \"Fruit\": [\"Apples\", \"Oranges\", \"Bananas\", \"Apples\", \"Oranges\", \"Bananas\"],\n",
        "   \"Amount\": [4, 1, 2, 2, 4, 5],\n",
        "   \"City\": [\"a\", \"b\", \"c\", \"d\", \"e\", \"f\"]\n",
        "})\n",
        "\n",
        "\n",
        "fig = px.bar(df, x=\"Fruit\",y=\"Amount\")\n",
        "fig1=px.line(df,x=\"City\",y=\"Amount\")\n",
        "\n",
        "\n",
        "app.layout = html.Div(children=[\n",
        "   html.H1(children='Hello Dash'),\n",
        "\n",
        "\n",
        "   html.Div(children='''\n",
        "       Dash: A web application framework for your data.\n",
        "   '''),\n",
        "\n",
        "\n",
        "   dcc.Graph(\n",
        "       id='example-graph',\n",
        "       figure=fig\n",
        "   ),\n",
        "\n",
        "\n",
        "   dcc.Graph(\n",
        "       id='example-graph1',\n",
        "       figure=fig1\n",
        "   )\n",
        "])\n",
        "\n",
        "\n",
        "if __name__ == '__main__':\n",
        "   app.run_server(mode=\"external\")\n"
      ],
      "metadata": {
        "colab": {
          "base_uri": "https://localhost:8080/",
          "height": 191
        },
        "id": "ul6Xk0syi758",
        "outputId": "5d43ef0b-b29f-4e2c-f7b3-772317382e72"
      },
      "execution_count": null,
      "outputs": [
        {
          "output_type": "stream",
          "name": "stderr",
          "text": [
            "<ipython-input-2-93c8940befa8>:7: UserWarning: \n",
            "The dash_core_components package is deprecated. Please replace\n",
            "`import dash_core_components as dcc` with `from dash import dcc`\n",
            "  import dash_core_components as dcc\n",
            "<ipython-input-2-93c8940befa8>:8: UserWarning: \n",
            "The dash_html_components package is deprecated. Please replace\n",
            "`import dash_html_components as html` with `from dash import html`\n",
            "  import dash_html_components as html\n"
          ]
        },
        {
          "output_type": "stream",
          "name": "stdout",
          "text": [
            "Dash app running on:\n"
          ]
        },
        {
          "output_type": "display_data",
          "data": {
            "text/plain": [
              "<IPython.core.display.Javascript object>"
            ],
            "application/javascript": [
              "(async (port, path, text, element) => {\n",
              "    if (!google.colab.kernel.accessAllowed) {\n",
              "      return;\n",
              "    }\n",
              "    element.appendChild(document.createTextNode(''));\n",
              "    const url = await google.colab.kernel.proxyPort(port);\n",
              "    const anchor = document.createElement('a');\n",
              "    anchor.href = new URL(path, url).toString();\n",
              "    anchor.target = '_blank';\n",
              "    anchor.setAttribute('data-href', url + path);\n",
              "    anchor.textContent = text;\n",
              "    element.appendChild(anchor);\n",
              "  })(8050, \"/\", \"http://127.0.0.1:8050/\", window.element)"
            ]
          },
          "metadata": {}
        }
      ]
    },
    {
      "cell_type": "code",
      "source": [
        "from jupyter_dash import JupyterDash\n",
        "import dash\n",
        "import dash_core_components as dcc\n",
        "import dash_html_components as html\n",
        "import plotly.express as px\n",
        "import pandas as pd\n",
        "\n",
        "\n",
        "\n",
        "\n",
        "app = JupyterDash(__name__)\n",
        "df = pd.read_csv('https://raw.githubusercontent.com/nethajinirmal13/Training-datasets/main/gdp-life-exp-2007.csv')\n",
        "\n",
        "\n",
        "fig = px.scatter(df, x=\"gdp per capita\", y=\"life expectancy\",\n",
        "                size=\"population\", color=\"continent\", hover_name=\"country\",\n",
        "                 size_max=60)\n",
        "\n",
        "\n",
        "app.layout = html.Div([\n",
        "   dcc.Graph(\n",
        "       id='life-exp-vs-gdp',\n",
        "       figure=fig\n",
        "   )\n",
        "])\n",
        "\n",
        "\n",
        "if __name__ == '__main__':\n",
        "   app.run_server(debug=True)\n"
      ],
      "metadata": {
        "colab": {
          "base_uri": "https://localhost:8080/",
          "height": 52
        },
        "id": "G3AD6XPZlJtf",
        "outputId": "b13b69ed-022e-4b99-f8cb-93d3f54d8212"
      },
      "execution_count": null,
      "outputs": [
        {
          "output_type": "stream",
          "name": "stdout",
          "text": [
            "Dash app running on:\n"
          ]
        },
        {
          "output_type": "display_data",
          "data": {
            "text/plain": [
              "<IPython.core.display.Javascript object>"
            ],
            "application/javascript": [
              "(async (port, path, text, element) => {\n",
              "    if (!google.colab.kernel.accessAllowed) {\n",
              "      return;\n",
              "    }\n",
              "    element.appendChild(document.createTextNode(''));\n",
              "    const url = await google.colab.kernel.proxyPort(port);\n",
              "    const anchor = document.createElement('a');\n",
              "    anchor.href = new URL(path, url).toString();\n",
              "    anchor.target = '_blank';\n",
              "    anchor.setAttribute('data-href', url + path);\n",
              "    anchor.textContent = text;\n",
              "    element.appendChild(anchor);\n",
              "  })(8050, \"/\", \"http://127.0.0.1:8050/\", window.element)"
            ]
          },
          "metadata": {}
        }
      ]
    },
    {
      "cell_type": "code",
      "source": [
        "from jupyter_dash import JupyterDash\n",
        "import dash_core_components as dcc\n",
        "import dash_html_components as html\n",
        "\n",
        "\n",
        "app = JupyterDash(__name__)\n",
        "\n",
        "\n",
        "markdown_text = '''\n",
        "### Dash and Markdown\n",
        "Guvi provides the best in class and best in the market practices for their learners\n",
        "'''\n",
        "\n",
        "\n",
        "app.layout = html.Div([\n",
        "   dcc.Markdown(children=markdown_text)\n",
        "])\n",
        "\n",
        "\n",
        "if __name__ == '__main__':\n",
        "   app.run_server(debug=True)\n"
      ],
      "metadata": {
        "colab": {
          "base_uri": "https://localhost:8080/",
          "height": 52
        },
        "id": "VuyovET7lgXm",
        "outputId": "2d5df233-ab4d-4f31-e9e3-5e5992347963"
      },
      "execution_count": null,
      "outputs": [
        {
          "output_type": "stream",
          "name": "stdout",
          "text": [
            "Dash app running on:\n"
          ]
        },
        {
          "output_type": "display_data",
          "data": {
            "text/plain": [
              "<IPython.core.display.Javascript object>"
            ],
            "application/javascript": [
              "(async (port, path, text, element) => {\n",
              "    if (!google.colab.kernel.accessAllowed) {\n",
              "      return;\n",
              "    }\n",
              "    element.appendChild(document.createTextNode(''));\n",
              "    const url = await google.colab.kernel.proxyPort(port);\n",
              "    const anchor = document.createElement('a');\n",
              "    anchor.href = new URL(path, url).toString();\n",
              "    anchor.target = '_blank';\n",
              "    anchor.setAttribute('data-href', url + path);\n",
              "    anchor.textContent = text;\n",
              "    element.appendChild(anchor);\n",
              "  })(8050, \"/\", \"http://127.0.0.1:8050/\", window.element)"
            ]
          },
          "metadata": {}
        }
      ]
    },
    {
      "cell_type": "code",
      "source": [
        "from jupyter_dash import JupyterDash\n",
        "import dash_core_components as dcc\n",
        "import dash_html_components as html\n",
        "\n",
        "\n",
        "\n",
        "\n",
        "app = JupyterDash(__name__)\n",
        "\n",
        "\n",
        "app.layout = html.Div([\n",
        "   html.Div(children=[\n",
        "       html.Label('Dropdown'),\n",
        "       dcc.Dropdown(\n",
        "           options=[\n",
        "               {'label': 'Chennai', 'value': 'CHN'},\n",
        "               {'label': 'Bengaluru', 'value': 'BNG'},\n",
        "               {'label': 'Hydrebad', 'value': 'HYR'},\n",
        "               {'label':'Mumbai','value':'MUM'}\n",
        "           ],\n",
        "           value='CHN'#default value\n",
        "          \n",
        "         \n",
        "       ),\n",
        "\n",
        "\n",
        "       html.Br(),\n",
        "       html.Label('Multi-Select Dropdown'),\n",
        "       dcc.Dropdown(\n",
        "           options=[\n",
        "               {'label': 'Chennai', 'value': 'CHN'},\n",
        "               {'label': 'Bengaluru', 'value': 'BNG'},\n",
        "               {'label': 'Hydrebad', 'value': 'HYR'}\n",
        "           ],\n",
        "           #value=['BNG', 'HYR'],\n",
        "           placeholder=\"Select a city\",\n",
        "           multi=True\n",
        "       ),\n",
        "\n",
        "\n",
        "       html.Br(),#line break in HTML\n",
        "       html.Label('Radio Items'),\n",
        "       dcc.RadioItems(\n",
        "           options=[\n",
        "               {'label': 'Chennai', 'value': 'CHN'},\n",
        "               {'label': 'Bengaluru', 'value': 'BNG'},\n",
        "               {'label': 'Hydrebad', 'value': 'HYR'}\n",
        "           ],\n",
        "           value='CHN'\n",
        "       ),\n",
        "   ], style={'padding': 10, 'flex': 1}),\n",
        "  \n",
        "   html.Div(children=[\n",
        "       html.Label('Checkboxes'),\n",
        "       dcc.Checklist(\n",
        "           options=[\n",
        "               {'label': 'Chennai', 'value': 'CHN'},\n",
        "               {'label': 'Bengaluru', 'value': 'BNG'},\n",
        "               {'label': 'Hydrebad', 'value': 'HYR'}\n",
        "           ],\n",
        "           value=['BNG', 'CHN']\n",
        "       ),\n",
        "\n",
        "\n",
        "       html.Br(),\n",
        "       html.Label('Text Input'),\n",
        "       dcc.Input(value='CHN', type='text'),\n",
        "\n",
        "\n",
        "       html.Br(),\n",
        "       html.Label('Slider'),\n",
        "       dcc.Slider(\n",
        "           min=0,\n",
        "           max=100,\n",
        "           #marks={0: 'low', 5:'medium',9: 'high'},\n",
        "           value=7.5,\n",
        "       ),\n",
        "   ], style={'padding': 10, 'flex': 1})\n",
        "], style={'display': 'flex', 'flex-direction': 'row'})\n",
        "\n",
        "\n",
        "if __name__ == '__main__':\n",
        "   app.run_server(debug=True)\n"
      ],
      "metadata": {
        "colab": {
          "base_uri": "https://localhost:8080/",
          "height": 52
        },
        "id": "Y-FD7WaWntp4",
        "outputId": "8c4254c4-412b-40d5-ec15-284c537b84a3"
      },
      "execution_count": null,
      "outputs": [
        {
          "output_type": "stream",
          "name": "stdout",
          "text": [
            "Dash app running on:\n"
          ]
        },
        {
          "output_type": "display_data",
          "data": {
            "text/plain": [
              "<IPython.core.display.Javascript object>"
            ],
            "application/javascript": [
              "(async (port, path, text, element) => {\n",
              "    if (!google.colab.kernel.accessAllowed) {\n",
              "      return;\n",
              "    }\n",
              "    element.appendChild(document.createTextNode(''));\n",
              "    const url = await google.colab.kernel.proxyPort(port);\n",
              "    const anchor = document.createElement('a');\n",
              "    anchor.href = new URL(path, url).toString();\n",
              "    anchor.target = '_blank';\n",
              "    anchor.setAttribute('data-href', url + path);\n",
              "    anchor.textContent = text;\n",
              "    element.appendChild(anchor);\n",
              "  })(8050, \"/\", \"http://127.0.0.1:8050/\", window.element)"
            ]
          },
          "metadata": {}
        }
      ]
    },
    {
      "cell_type": "code",
      "source": [
        "\n",
        "from jupyter_dash import JupyterDash\n",
        "from dash import Dash, dcc, html, Input, Output\n",
        "\n",
        "\n",
        "#app = Dash(__name__)\n",
        "app = JupyterDash(__name__)\n",
        "app.layout = html.Div([\n",
        "   html.H6(\"Change the value in the text box to see callbacks in action!\"),\n",
        "   html.Div([\n",
        "       \"Input: \",\n",
        "       dcc.Input(id='my-input',placeholder=\"enter your name\", type='text')\n",
        "   ]),\n",
        "   html.Br(),\n",
        "   html.H3(id='my-output'),\n",
        "\n",
        "\n",
        "])\n",
        "\n",
        "\n",
        "\n",
        "\n",
        "@app.callback(\n",
        "   Output(component_id='my-output', component_property='children'),\n",
        "   Input(component_id='my-input', component_property='value'),\n",
        "   #prevent_initial_call=True\n",
        ")\n",
        "\n",
        "\n",
        "def update(input_value):\n",
        " return f'Output:{input_value.upper()}'\n",
        "\n",
        "\n",
        "if __name__ == '__main__':\n",
        "   app.run_server(debug=True)\n"
      ],
      "metadata": {
        "colab": {
          "base_uri": "https://localhost:8080/",
          "height": 52
        },
        "id": "eTWuYz29x8MI",
        "outputId": "d212f5c3-5d71-48ed-8540-f0da53bbba34"
      },
      "execution_count": null,
      "outputs": [
        {
          "output_type": "stream",
          "name": "stdout",
          "text": [
            "Dash app running on:\n"
          ]
        },
        {
          "output_type": "display_data",
          "data": {
            "text/plain": [
              "<IPython.core.display.Javascript object>"
            ],
            "application/javascript": [
              "(async (port, path, text, element) => {\n",
              "    if (!google.colab.kernel.accessAllowed) {\n",
              "      return;\n",
              "    }\n",
              "    element.appendChild(document.createTextNode(''));\n",
              "    const url = await google.colab.kernel.proxyPort(port);\n",
              "    const anchor = document.createElement('a');\n",
              "    anchor.href = new URL(path, url).toString();\n",
              "    anchor.target = '_blank';\n",
              "    anchor.setAttribute('data-href', url + path);\n",
              "    anchor.textContent = text;\n",
              "    element.appendChild(anchor);\n",
              "  })(8050, \"/\", \"http://127.0.0.1:8050/\", window.element)"
            ]
          },
          "metadata": {}
        }
      ]
    },
    {
      "cell_type": "code",
      "source": [
        "from jupyter_dash import JupyterDash\n",
        "from dash import Dash, dcc, html, Input, Output\n",
        "\n",
        "\n",
        "#app = Dash(__name__)\n",
        "app = JupyterDash(__name__)\n",
        "app.layout = html.Div([\n",
        "   html.H6(\"Change the value in the text box to see callbacks in action!\"),\n",
        "   html.Div([\n",
        "       \"Input: \",\n",
        "       dcc.Input(id='my-input',placeholder=\"enter your name\", type='text')\n",
        "       dcc.Input(id='my-input1',placeholder=\"enter your name\", type='text')\n",
        "   ]),\n",
        "   html.Br(),\n",
        "   html.H3(id='my-output'),\n",
        "\n",
        "\n",
        "])\n",
        "\n",
        "\n",
        "\n",
        "\n",
        "@app.callback(\n",
        "   Output(component_id='my-output', component_property='children'),\n",
        "   [Input(component_id='my-input', component_property='value'),\n",
        "    Input(component_id='my-input1',component-property='value')]\n",
        "   #prevent_initial_call=True\n",
        ")\n",
        "\n",
        "\n",
        "def update(input_value):\n",
        " return f'Output:{input_value.upper()}'\n",
        "\n",
        "\n",
        "if __name__ == '__main__':\n",
        "   app.run_server(debug=True)\n"
      ],
      "metadata": {
        "colab": {
          "base_uri": "https://localhost:8080/",
          "height": 130
        },
        "id": "gNx4vzQClgUm",
        "outputId": "799fd233-c37e-4a9f-f310-cd677b4bf2e9"
      },
      "execution_count": null,
      "outputs": [
        {
          "output_type": "error",
          "ename": "SyntaxError",
          "evalue": "ignored",
          "traceback": [
            "\u001b[0;36m  File \u001b[0;32m\"<ipython-input-8-198d37d50d8a>\"\u001b[0;36m, line \u001b[0;32m12\u001b[0m\n\u001b[0;31m    dcc.Input(id='my-input1',placeholder=\"enter your name\", type='text')\u001b[0m\n\u001b[0m    ^\u001b[0m\n\u001b[0;31mSyntaxError\u001b[0m\u001b[0;31m:\u001b[0m invalid syntax\n"
          ]
        }
      ]
    },
    {
      "cell_type": "code",
      "source": [
        "\n",
        "from jupyter_dash import JupyterDash\n",
        "from dash import Dash, dcc, html, Input, Output\n",
        "\n",
        "\n",
        "#app = Dash(__name__)\n",
        "app = JupyterDash(__name__)\n",
        "app.layout = html.Div([\n",
        "   html.H6(\"Change the value in the text box to see callbacks in action!\"),\n",
        "   html.Div([\n",
        "       \"Input: \",\n",
        "       dcc.Input(id='my-input',placeholder=\"enter your name\", type='text')\n",
        "   ]),\n",
        "   html.Br(),\n",
        "   html.H3(id='my-output'),\n",
        "\n",
        "\n",
        "])\n",
        "\n",
        "\n",
        "\n",
        "\n",
        "@app.callback(\n",
        "   Output(component_id='my-output', component_property='children'),\n",
        "   Output(component_id='my-output', component_property='children'),\n",
        "   Output(component_id='my-output', component_property='children'),\n",
        "   Input(component_id='my-input', component_property='value'),\n",
        "   #prevent_initial_call=True\n",
        ")\n",
        "\n",
        "\n",
        "def update(input_value):\n",
        " return f'Output:{input_value.upper()}'\n",
        "\n",
        "\n",
        "if __name__ == '__main__':\n",
        "   app.run_server(debug=True)"
      ],
      "metadata": {
        "colab": {
          "base_uri": "https://localhost:8080/",
          "height": 52
        },
        "id": "rjviiPRllgKs",
        "outputId": "b1952337-20cb-4b39-ee8f-46e128c40005"
      },
      "execution_count": null,
      "outputs": [
        {
          "output_type": "stream",
          "name": "stdout",
          "text": [
            "Dash app running on:\n"
          ]
        },
        {
          "output_type": "display_data",
          "data": {
            "text/plain": [
              "<IPython.core.display.Javascript object>"
            ],
            "application/javascript": [
              "(async (port, path, text, element) => {\n",
              "    if (!google.colab.kernel.accessAllowed) {\n",
              "      return;\n",
              "    }\n",
              "    element.appendChild(document.createTextNode(''));\n",
              "    const url = await google.colab.kernel.proxyPort(port);\n",
              "    const anchor = document.createElement('a');\n",
              "    anchor.href = new URL(path, url).toString();\n",
              "    anchor.target = '_blank';\n",
              "    anchor.setAttribute('data-href', url + path);\n",
              "    anchor.textContent = text;\n",
              "    element.appendChild(anchor);\n",
              "  })(8050, \"/\", \"http://127.0.0.1:8050/\", window.element)"
            ]
          },
          "metadata": {}
        }
      ]
    },
    {
      "cell_type": "code",
      "source": [
        "from jupyter_dash import JupyterDash\n",
        "from dash import Dash, dcc, html, Input, Output\n",
        "\n",
        "\n",
        "#app = Dash(__name__)\n",
        "app = JupyterDash(__name__)\n",
        "app.layout = html.Div([\n",
        "   html.H6(\"Change the value in the text box to see callbacks in action!\"),\n",
        "   html.Div([\n",
        "       \"Input: \",\n",
        "       dcc.Input(id='my-input',placeholder=\"enter your name\", type='text')\n",
        "   ]),\n",
        "   html.Br(),\n",
        "   html.H6(id='my_output1',style={\n",
        "           'textAlign': 'center',\n",
        "           'color': \"red\"\n",
        "       }),\n",
        "   html.H1(id='my_output2',style={\n",
        "           'textAlign': 'center',\n",
        "           'color': \"Blue\"\n",
        "       }),\n",
        "   html.H4(id='my_output3',style={\n",
        "           'textAlign': 'center',\n",
        "           'color': \"green\"\n",
        "       }),\n",
        "   html.H5(id='my_output4',style={\n",
        "           'textAlign': 'center',\n",
        "           'color': \"yellow\"\n",
        "       }),\n",
        "\n",
        "\n",
        "])\n",
        "\n",
        "\n",
        "\n",
        "\n",
        "@app.callback(\n",
        "   [Output(component_id='my_output1', component_property='children'),\n",
        "    Output(component_id='my_output2', component_property='children'),\n",
        "    Output(component_id='my_output3', component_property='children'),\n",
        "    Output(component_id='my_output4', component_property='children')],\n",
        "   Input(component_id='my-input', component_property='value'),\n",
        "   prevent_initial_call=True\n",
        ")\n",
        "\n",
        "\n",
        "def update(input_value):\n",
        " my_output1=f'Output:{input_value.upper()}'\n",
        " my_output2=f'Output:{input_value.lower()}'\n",
        " my_output3=f'Output:{input_value.upper()}'\n",
        " my_output4=f'Output:{input_value.upper()}'\n",
        " return my_output1,my_output2, my_output3,my_output4\n",
        "\n",
        "\n",
        "if __name__ == '__main__':\n",
        "   app.run_server(debug=True)\n",
        "\n"
      ],
      "metadata": {
        "colab": {
          "base_uri": "https://localhost:8080/"
        },
        "id": "hW6FEXNzlf-F",
        "outputId": "bd3c36d8-a16f-4ff3-a0cb-23f5449ec9d2"
      },
      "execution_count": null,
      "outputs": [
        {
          "output_type": "stream",
          "name": "stdout",
          "text": [
            "Dash app running on:\n"
          ]
        },
        {
          "output_type": "display_data",
          "data": {
            "text/plain": [
              "<IPython.core.display.Javascript object>"
            ],
            "application/javascript": [
              "(async (port, path, text, element) => {\n",
              "    if (!google.colab.kernel.accessAllowed) {\n",
              "      return;\n",
              "    }\n",
              "    element.appendChild(document.createTextNode(''));\n",
              "    const url = await google.colab.kernel.proxyPort(port);\n",
              "    const anchor = document.createElement('a');\n",
              "    anchor.href = new URL(path, url).toString();\n",
              "    anchor.target = '_blank';\n",
              "    anchor.setAttribute('data-href', url + path);\n",
              "    anchor.textContent = text;\n",
              "    element.appendChild(anchor);\n",
              "  })(8050, \"/\", \"http://127.0.0.1:8050/\", window.element)"
            ]
          },
          "metadata": {}
        }
      ]
    }
  ]
}